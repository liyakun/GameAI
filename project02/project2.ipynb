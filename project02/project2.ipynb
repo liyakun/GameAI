{
 "cells": [
  {
   "cell_type": "markdown",
   "metadata": {},
   "source": [
    "# Lecture 01"
   ]
  },
  {
   "cell_type": "markdown",
   "metadata": {},
   "source": [
    "#### All the imports here"
   ]
  },
  {
   "cell_type": "code",
   "execution_count": 9,
   "metadata": {
    "collapsed": false
   },
   "outputs": [],
   "source": [
    "import numpy as np\n",
    "import scipy.misc as sc\n",
    "import matplotlib.pyplot as plt"
   ]
  },
  {
   "cell_type": "markdown",
   "metadata": {},
   "source": [
    "### Task 2.1\n",
    "##### 1. upper bound for the number of nodes in the complete tic tact toe game tree (starting with an empty board and player X to move)\n",
    "\n",
    "$$ supper \\, upper \\, bound = \\sum_{i=1}^{9} \\prod_{j=i}^{9} {j \\choose 1} $$\n",
    "\n"
   ]
  },
  {
   "cell_type": "code",
   "execution_count": 10,
   "metadata": {
    "collapsed": false
   },
   "outputs": [
    {
     "name": "stdout",
     "output_type": "stream",
     "text": [
      "Supper upper bound is: 109601\n"
     ]
    }
   ],
   "source": [
    "sum = 0\n",
    "for i in range(0, 10):\n",
    "    product = 1\n",
    "    for j in range(i, 9):\n",
    "        product *= sc.comb(j, 1, True)\n",
    "    sum += product\n",
    "print 'Supper upper bound is: ' + str(sum)"
   ]
  },
  {
   "cell_type": "code",
   "execution_count": 16,
   "metadata": {
    "collapsed": false
   },
   "outputs": [],
   "source": [
    "class TicTacToe:\n",
    "    \"\"\" tic tac toe implementation \"\"\"\n",
    "    def __init__(self):\n",
    "        # relate numbers (1, -1, 0) to symbols ('x', 'o', ' ')\n",
    "        self.symbols = {1: 'x', -1: 'o', 0: ' '}\n",
    "        self.result = []\n",
    "        # x_board and o_board hold the win information after 1000 runs\n",
    "        self.x_board, self.o_board = np.zeros((3, 3), dtype=float), np.zeros((3, 3), dtype=float)\n",
    "        # hold all the three in a line information\n",
    "        self.Three_in_a_Row = np.array([[0, 1, 2], [3, 4, 5], [6, 7, 8],\n",
    "                                        [0, 3, 6], [1, 4, 7], [2, 5, 8],\n",
    "                                        [0, 4, 8], [2, 4, 6]])\n",
    "        # heuristic array\n",
    "        self.Heuristic_Array = [[0, -10, -100, -1000],\n",
    "                                [10, 0, 0, 0],\n",
    "                                [100, 0, 0, 0],\n",
    "                                [1000, 0, 0, 0]]\n",
    "        self.nodeDict, self.succDict = {}, {}\n",
    "        self.strategy = ''\n",
    "\n",
    "    def move_still_possible(self, S):\n",
    "        return not (S[S == 0].size == 0)\n",
    "\n",
    "    def move_was_winning_move(self, S, p):\n",
    "        if np.max((np.sum(S, axis=0)) * p) == 3:\n",
    "            return True\n",
    "\n",
    "        if np.max((np.sum(S, axis=1)) * p) == 3:\n",
    "            return True\n",
    "\n",
    "        if (np.sum(np.diag(S)) * p) == 3:\n",
    "            return True\n",
    "\n",
    "        if (np.sum(np.diag(np.rot90(S))) * p) == 3:\n",
    "            return True\n",
    "\n",
    "        return False\n",
    "\n",
    "    # evaluation function\n",
    "    def evaluation(self, S, p):\n",
    "        opponent = p * -1\n",
    "        t = 0\n",
    "        for i, items in enumerate(self.Three_in_a_Row):\n",
    "            players, others = 0, 0\n",
    "            for j, _ in enumerate(items):\n",
    "                piece = S[self.Three_in_a_Row[i][j] / 3][self.Three_in_a_Row[i][j] % 3]\n",
    "                if piece == p:\n",
    "                    players += 1\n",
    "                elif piece == opponent:\n",
    "                    others += 1\n",
    "            t += self.Heuristic_Array[players][others]\n",
    "        return t\n",
    "\n",
    "\n",
    "class MinMax:\n",
    "\n",
    "    def __init__(self, game='', game_name='', player='', level='', state=''):\n",
    "        self.game = game\n",
    "        self.game_name = game_name\n",
    "        self.player = player\n",
    "        self.level = level\n",
    "        self.state = state\n",
    "        self.players = []\n",
    "        self.nodeDict, self.nodeSuccDict, self.nodeUtilDict, self.nodeMinMaxDict = {}, {}, {}, {}\n",
    "\n",
    "    def min_node_util(self, node):\n",
    "        if node in self.nodeUtilDict:\n",
    "            self.nodeMinMaxDict[node] = self.nodeUtilDict[node]\n",
    "            return self.nodeMinMaxDict[node]\n",
    "        mmv = np.inf\n",
    "        for s in self.nodeSuccDict[node]:\n",
    "            mmv = min(mmv, self.max_node_util(s))\n",
    "        self.nodeMinMaxDict[node] = mmv\n",
    "        return mmv\n",
    "\n",
    "    def max_node_util(self, node):\n",
    "        if node in self.nodeUtilDict:\n",
    "            self.nodeMinMaxDict[node] = self.nodeUtilDict[node]\n",
    "            return self.nodeMinMaxDict[node]\n",
    "        mmv = -np.inf\n",
    "        for s in self.nodeSuccDict[node]:\n",
    "            mmv = max(mmv, self.min_node_util(s))\n",
    "        self.nodeMinMaxDict[node] = mmv\n",
    "        return mmv\n",
    "\n",
    "    def next_step_ttt(self, player, state, succ):\n",
    "        rs, cs = np.where(state == 0)\n",
    "        for j in range(rs.size):\n",
    "            ss_copy = np.copy(state)\n",
    "            ss_copy[rs[j], cs[j]] = player\n",
    "\n",
    "            newnode = max(self.nodeDict.keys()) + 1\n",
    "            self.nodeDict[newnode] = ss_copy\n",
    "\n",
    "            succ.append(newnode)\n",
    "\n",
    "    def next_step_connect4(self, player, state, succ):\n",
    "        for i in range(7):  # enumerate all legal moves from this state\n",
    "            if self.game.is_valid_move(state, i):  # if column is a legal move\n",
    "                ss_copy = np.copy(state)\n",
    "                self.game.make_move(ss_copy, player, i)\n",
    "\n",
    "                newnode = max(self.nodeDict.keys()) + 1\n",
    "                self.nodeDict[newnode] = ss_copy\n",
    "\n",
    "                succ.append(newnode)\n",
    "\n",
    "    def build_tree(self, state, player, node, level):\n",
    "        succ = []\n",
    "\n",
    "        # if state is not terminal: switch player & compute successors\n",
    "        if level == 0 or self.game.move_was_winning_move(state, player):\n",
    "            self.players.append(player)\n",
    "            self.nodeUtilDict[node] = self.game.evaluation(state, player)\n",
    "        \n",
    "        elif not self.game.move_still_possible(state):\n",
    "            self.players.append(0)  # no one win, game ends in a draw\n",
    "\n",
    "        else:\n",
    "            player *= -1\n",
    "            if self.game_name is 'ttt':\n",
    "                self.next_step_ttt(player, state, succ)\n",
    "            elif self.game_name is 'connect_four':\n",
    "                self.next_step_connect4(player, state, succ)\n",
    "            else:\n",
    "                raise ValueError(\"Game name is not as expected!\")\n",
    "\n",
    "        self.nodeSuccDict[node] = succ\n",
    "\n",
    "        for s in succ:\n",
    "            self.build_tree(self.nodeDict[s], player, s, level - 1)\n",
    "\n",
    "    def run_min_max(self):\n",
    "\n",
    "        # build tree\n",
    "        node = 0\n",
    "        self.nodeDict[node] = self.state\n",
    "        state, player, level = self.state, self.player, self.level\n",
    "        self.build_tree(state, player, node, level)\n",
    "        f = open('output.txt', 'w')\n",
    "        f.write('Number of nodes: ' + str(len(self.nodeDict)) + '\\n') \n",
    "        f.write('Number of draw: ' + str(self.players.count(0)) + '\\n')\n",
    "        f.write('Number of x: ' + str(self.players.count(1)) + '\\n')\n",
    "        f.write('Number of o: ' + str(self.players.count(-1)) + '\\n')\n",
    "        mmv = self.max_node_util(node)\n",
    "        f.write(str(self.nodeSuccDict))\n",
    "        return next(self.nodeDict[succ] for succ in self.nodeSuccDict[node] if self.nodeMinMaxDict[succ] is mmv)  "
   ]
  },
  {
   "cell_type": "code",
   "execution_count": 17,
   "metadata": {
    "collapsed": false
   },
   "outputs": [
    {
     "data": {
      "text/plain": [
       "\"\\nttt = TicTacToe()\\nstate = np.array([\\n    [0, 0, 0],\\n    [0, 0, 0],\\n    [0, 0, 0]\\n])\\nplayer = -1\\nlevel = np.inf\\nminmax = MinMax(ttt, 'ttt', player, level, state)\\nminmax.run_min_max()\\n\""
      ]
     },
     "execution_count": 17,
     "metadata": {},
     "output_type": "execute_result"
    }
   ],
   "source": [
    "'''\n",
    "ttt = TicTacToe()\n",
    "state = np.array([\n",
    "    [0, 0, 0],\n",
    "    [0, 0, 0],\n",
    "    [0, 0, 0]\n",
    "])\n",
    "player = -1\n",
    "level = np.inf\n",
    "minmax = MinMax(ttt, 'ttt', player, level, state)\n",
    "minmax.run_min_max()\n",
    "'''"
   ]
  },
  {
   "cell_type": "markdown",
   "metadata": {
    "collapsed": true
   },
   "source": [
    "### Task 2.2"
   ]
  },
  {
   "cell_type": "code",
   "execution_count": 20,
   "metadata": {
    "collapsed": false
   },
   "outputs": [
    {
     "name": "stdout",
     "output_type": "stream",
     "text": [
      "----\n",
      "10\n",
      "----\n"
     ]
    }
   ],
   "source": [
    "nodeDict = {0, 1 ,2 ,3, 4, 5, 6, 7, 8, 9, 10, 11, 12, 13, 14, 15, 16, 17, 18, 19}\n",
    "nodeSuccDict = {0: [1, 2, 3, 4, 5], 1: [6, 7, 8, 9], 2: [10, 11], 3: [12, 13], 4: [14, 15, 16], 5: [17, 18, 19]}\n",
    "nodeUtilDict = {6: 15, 7: 20, 8: 1, 9: 3, 10: 3, 11: 4, 12: 15, 13: 10, 14: 16, 15: 4, 16: 12, 17: 15, 18: 12, 19: 8}\n",
    "nodeMinMaxDict = {}\n",
    "\n",
    "def maxNodeUtil(node):\n",
    "    if node in nodeUtilDict:\n",
    "            nodeMinMaxDict[node] = nodeUtilDict[node]\n",
    "            return nodeMinMaxDict[node]\n",
    "    mmv = -np.inf\n",
    "    for s in nodeSuccDict[node]:\n",
    "            mmv = max(mmv, minNodeUtil(s))\n",
    "    nodeMinMaxDict[node] = mmv\n",
    "    return mmv\n",
    "\n",
    "def minNodeUtil(node):\n",
    "    if node in nodeUtilDict:\n",
    "            nodeMinMaxDict[node] = nodeUtilDict[node]\n",
    "            return nodeMinMaxDict[node]\n",
    "    mmv = np.inf\n",
    "    for s in nodeSuccDict[node]:\n",
    "            mmv = min(mmv, maxNodeUtil(s))\n",
    "    nodeMinMaxDict[node] = mmv\n",
    "    return mmv\n",
    "\n",
    "if __name__ == '__main__':\n",
    "    print \"----\"\n",
    "    print maxNodeUtil(0)\n",
    "    print \"----\""
   ]
  },
  {
   "cell_type": "code",
   "execution_count": null,
   "metadata": {
    "collapsed": true
   },
   "outputs": [],
   "source": []
  }
 ],
 "metadata": {
  "kernelspec": {
   "display_name": "Python 2",
   "language": "python",
   "name": "python2"
  },
  "language_info": {
   "codemirror_mode": {
    "name": "ipython",
    "version": 2
   },
   "file_extension": ".py",
   "mimetype": "text/x-python",
   "name": "python",
   "nbconvert_exporter": "python",
   "pygments_lexer": "ipython2",
   "version": "2.7.6"
  }
 },
 "nbformat": 4,
 "nbformat_minor": 0
}
